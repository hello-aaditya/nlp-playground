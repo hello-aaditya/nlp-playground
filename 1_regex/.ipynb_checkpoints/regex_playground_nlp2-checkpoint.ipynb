{
 "cells": [
  {
   "cell_type": "markdown",
   "id": "f462d48f-2a17-43df-a2da-8e62e3abb641",
   "metadata": {},
   "source": [
    "<div style=\"text-align: center;\">\n",
    "    <h1>NLP Playground: Regular Expressions</h1>\n",
    "</div>"
   ]
  },
  {
   "cell_type": "markdown",
   "id": "14057f11-e841-4e1c-be22-0f30003660a1",
   "metadata": {},
   "source": [
    "#### (2) Regex for Information Extraction"
   ]
  },
  {
   "cell_type": "code",
   "execution_count": 46,
   "id": "885e719c-de69-45f5-b037-07e0efe39fb0",
   "metadata": {},
   "outputs": [],
   "source": [
    "import re"
   ]
  },
  {
   "cell_type": "code",
   "execution_count": 47,
   "id": "0b7afc5c-b58d-416c-9cb9-ae9b28a8aba5",
   "metadata": {},
   "outputs": [],
   "source": [
    "text = '''\n",
    "Born\tElon Reeve Musk\n",
    "June 28, 1971 (age 53)\n",
    "Pretoria, Transvaal, South Africa\n",
    "Citizenship\t\n",
    "South Africa\n",
    "Canada\n",
    "United States (from 2002)\n",
    "\n",
    "Education\tUniversity of Pennsylvania (BA, BS)\n",
    "Title\t\n",
    "\n",
    "    Founder, CEO, and chief engineer of SpaceX\n",
    "    CEO and product architect of Tesla, Inc.\n",
    "    Owner, CTO and Executive Chairman of X (formerly Twitter)\n",
    "    President of the Musk Foundation\n",
    "    Founder of The Boring Company, X Corp., and xAI\n",
    "    Co-founder of Neuralink, OpenAI, Zip2, and X.com (part of PayPal)\n",
    "\n",
    "Spouses\t\n",
    "\n",
    "    Justine Wilson\n",
    "    ​\n",
    "    ​\n",
    "    (m. 2000; div. 2008)​\n",
    "    Talulah Riley\n",
    "    ​\n",
    "    ​\n",
    "    (m. 2010; div. 2012)​\n",
    "    ​\n",
    "    ​\n",
    "    (m. 2013; div. 2016)​\n",
    "\n",
    "Partners\t\n",
    "\n",
    "    Grimes (2018–2021)[1]\n",
    "\n",
    "Children\t12[2]\n",
    "Parents\t\n",
    "\n",
    "    Errol Musk\n",
    "    Maye Musk\n",
    "\n",
    "Relatives\t\n",
    "\n",
    "    Kimbal Musk (brother)\n",
    "    Tosca Musk (sister)\n",
    "    Lyndon Rive (cousin)\n",
    "\n",
    "'''"
   ]
  },
  {
   "cell_type": "code",
   "execution_count": 48,
   "id": "39c4d51a-c9b6-4044-9a06-a90296386348",
   "metadata": {},
   "outputs": [
    {
     "name": "stdout",
     "output_type": "stream",
     "text": [
      "{'Name': 'Elon Reeve Musk', 'Age': '53', 'Date of Birth': 'June 28, 1971', 'Birthplace': 'Pretoria, Transvaal, South Africa'}\n"
     ]
    }
   ],
   "source": [
    "def extract_info(text):\n",
    "    age_pattern = r'age (\\d+)'\n",
    "    name_pattern = r'Born\\s+(.*)'\n",
    "    dob_pattern = r'Born.*\\n(.*)\\(age'\n",
    "    dop_pattern = r'\\(age.*\\n(.*)'\n",
    "\n",
    "    # Check for matches\n",
    "    age_match = re.findall(age_pattern, text)\n",
    "    name_match = re.findall(name_pattern, text)\n",
    "    dob_match = re.findall(dob_pattern, text)\n",
    "    dop_match = re.findall(dop_pattern, text)\n",
    "\n",
    "    # Prepare results\n",
    "    results = {}\n",
    "    if name_match:\n",
    "        results['Name'] = name_match[0].strip()\n",
    "    if age_match:\n",
    "        results['Age'] = age_match[0]\n",
    "    if dob_match:\n",
    "        results['Date of Birth'] = dob_match[0].strip()\n",
    "    if dop_match:\n",
    "        results['Birthplace'] = dop_match[0].strip()\n",
    "\n",
    "    return results\n",
    "\n",
    "# Call the function and print the results\n",
    "info = extract_info(text)\n",
    "print(info)"
   ]
  },
  {
   "cell_type": "code",
   "execution_count": 49,
   "id": "78de7df5-aec9-4021-8921-a28794fb1d50",
   "metadata": {},
   "outputs": [],
   "source": [
    "text = '''\n",
    "Born\tRatan Naval Tata\n",
    "28 December 1937\n",
    "Bombay, Bombay Province, British India\n",
    "Died\t9 October 2024 (aged 86)\n",
    "Mumbai, Maharashtra, India\n",
    "Alma mater\tCornell University (BArch)\n",
    "Occupations\t\n",
    "\n",
    "    IndustrialistPhilanthropist\n",
    "\n",
    "Title\tChairman Emeritus, Tata Sons and Tata Group[1]\n",
    "Term\t\n",
    "\n",
    "    1991–2012\n",
    "    2016–2017\n",
    "\n",
    "Predecessor\tJ. R. D. Tata\n",
    "Successor\t\n",
    "\n",
    "    Cyrus Mistry (2012–2016)\n",
    "    Natarajan Chandrasekaran (2017–present)\n",
    "\n",
    "Parents\t\n",
    "\n",
    "    Naval Tata (father)\n",
    "    Sooni Commissariat (mother)\n",
    "\n",
    "Relatives\tTata family\n",
    "Awards\t\n",
    "\n",
    "    Order of Australia (2023)\n",
    "    Assam Baibhav (2021)\n",
    "    Honorary Knight Grand Cross of the Order of the British Empire (2014)\n",
    "    Padma Vibhushan (2008)\n",
    "    Maharashtra Bhushan (2006)\n",
    "    Padma Bhushan (2000)\n",
    "'''"
   ]
  },
  {
   "cell_type": "code",
   "execution_count": 50,
   "id": "a3fcc428-cef3-4868-ae72-461522f2e974",
   "metadata": {},
   "outputs": [
    {
     "name": "stdout",
     "output_type": "stream",
     "text": [
      "{'Name': 'Ratan Naval Tata', 'Age': '86', 'Date of Birth': '28 December 1937', 'Birthplace': 'Mumbai, Maharashtra, India', 'Died': '9 October 2024'}\n"
     ]
    }
   ],
   "source": [
    "def extract_info(text):\n",
    "    age_pattern = r'Born.*\\n.*\\n.*\\nDied.\\d [a-zA-Z]* [0-9]* \\(aged (\\d\\d)'\n",
    "    name_pattern = r'Born\\s+(.*)'\n",
    "    dob_pattern = r'Born.*\\n(.*)'\n",
    "    dop_pattern = r'\\(age.*\\n(.*)'\n",
    "    dod_pattern = r'Born.*\\n.*\\n.*\\nDied.(\\d [a-zA-Z]* [0-9]*)'\n",
    "\n",
    "    # Check for matches\n",
    "    age_match = re.findall(age_pattern, text)\n",
    "    name_match = re.findall(name_pattern, text)\n",
    "    dop_match = re.findall(dop_pattern, text)\n",
    "    dob_match = re.findall(dob_pattern, text)\n",
    "    dod_match = re.findall(dod_pattern, text)\n",
    "\n",
    "    # Prepare results\n",
    "    results = {}\n",
    "    if name_match:\n",
    "        results['Name'] = name_match[0].strip()\n",
    "    if age_match:\n",
    "        results['Age'] = age_match[0]\n",
    "    if dob_match:\n",
    "        results['Date of Birth'] = dob_match[0].strip()\n",
    "    if dop_match:\n",
    "        results['Birthplace'] = dop_match[0].strip()\n",
    "    if dod_match:\n",
    "        results['Died'] = dod_match[0].strip()\n",
    "    \n",
    "\n",
    "    return results\n",
    "\n",
    "# Call the function and print the results\n",
    "info = extract_info(text)\n",
    "print(info)"
   ]
  },
  {
   "cell_type": "code",
   "execution_count": null,
   "id": "c45f8fea-333a-41e1-bcbe-8261bad201ea",
   "metadata": {},
   "outputs": [],
   "source": []
  }
 ],
 "metadata": {
  "kernelspec": {
   "display_name": "Python 3 (ipykernel)",
   "language": "python",
   "name": "python3"
  },
  "language_info": {
   "codemirror_mode": {
    "name": "ipython",
    "version": 3
   },
   "file_extension": ".py",
   "mimetype": "text/x-python",
   "name": "python",
   "nbconvert_exporter": "python",
   "pygments_lexer": "ipython3",
   "version": "3.12.4"
  }
 },
 "nbformat": 4,
 "nbformat_minor": 5
}
