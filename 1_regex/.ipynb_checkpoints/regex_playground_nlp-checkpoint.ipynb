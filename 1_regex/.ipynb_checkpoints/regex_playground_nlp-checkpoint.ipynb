{
 "cells": [
  {
   "cell_type": "code",
   "execution_count": 19,
   "id": "b7b4a227-b31b-4427-a706-d69430100db5",
   "metadata": {},
   "outputs": [],
   "source": [
    "import re"
   ]
  },
  {
   "cell_type": "code",
   "execution_count": 20,
   "id": "c56f465a-ed71-40a6-89e9-448c752cac31",
   "metadata": {},
   "outputs": [],
   "source": [
    "chat1 = 'Is the project deadline still set for Friday? If you have any questions, feel free to call me at 9876543210 or 8753958710 or send an email to contact@domain.com'\n",
    "chat2 = 'Can you please confirm if the meeting is still on for tomorrow? You can reach me at (915)-762-5730 or email me at example@email.com'\n",
    "chat3 = 'Could you let me know if the files were uploaded correctly? You can call me at 5551234567 or email me at info_ngo.city@samplemail.com'"
   ]
  },
  {
   "cell_type": "code",
   "execution_count": 24,
   "id": "2cfff924-68b7-4714-8856-6163b749624b",
   "metadata": {},
   "outputs": [
    {
     "data": {
      "text/plain": [
       "['info@samplemail.com']"
      ]
     },
     "execution_count": 24,
     "metadata": {},
     "output_type": "execute_result"
    }
   ],
   "source": [
    "pattern = r'[a-z0-9_.]*@[a-z]*\\.[a-z]*'\n",
    "matches = re.findall(pattern, chat3)\n",
    "matches"
   ]
  },
  {
   "cell_type": "code",
   "execution_count": null,
   "id": "33e469dd-f106-498e-b8a7-53f8ee44bd15",
   "metadata": {},
   "outputs": [],
   "source": []
  }
 ],
 "metadata": {
  "kernelspec": {
   "display_name": "Python 3 (ipykernel)",
   "language": "python",
   "name": "python3"
  },
  "language_info": {
   "codemirror_mode": {
    "name": "ipython",
    "version": 3
   },
   "file_extension": ".py",
   "mimetype": "text/x-python",
   "name": "python",
   "nbconvert_exporter": "python",
   "pygments_lexer": "ipython3",
   "version": "3.12.4"
  }
 },
 "nbformat": 4,
 "nbformat_minor": 5
}
