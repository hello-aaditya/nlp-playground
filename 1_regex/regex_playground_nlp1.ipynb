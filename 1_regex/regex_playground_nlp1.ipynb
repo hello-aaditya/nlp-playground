{
 "cells": [
  {
   "cell_type": "markdown",
   "id": "1c987706-2d11-463d-9217-03923c1c0d08",
   "metadata": {},
   "source": [
    "<div style=\"text-align: center;\">\n",
    "    <h1>NLP Playground: Regular Expressions</h1>\n",
    "</div>"
   ]
  },
  {
   "cell_type": "markdown",
   "id": "e7688208-6244-450e-ad09-86cc9047cb2f",
   "metadata": {},
   "source": [
    "#### (1) Regex in Customer Support"
   ]
  },
  {
   "cell_type": "markdown",
   "id": "be773a96-78e2-4226-8683-05418a94290c",
   "metadata": {},
   "source": [
    "#### Retrieve Emails, order numbers, Phone Numbers"
   ]
  },
  {
   "cell_type": "code",
   "execution_count": 41,
   "id": "b7b4a227-b31b-4427-a706-d69430100db5",
   "metadata": {},
   "outputs": [],
   "source": [
    "import re"
   ]
  },
  {
   "cell_type": "code",
   "execution_count": 42,
   "id": "c56f465a-ed71-40a6-89e9-448c752cac31",
   "metadata": {},
   "outputs": [],
   "source": [
    "chat1 = 'Is the project deadline still set for Friday? If you have any questions, feel free to call me at 9876543210 or 8753958710 or send an email to contact@domain.com'\n",
    "chat2 = 'Can you please confirm if the meeting is still on for tomorrow? You can reach me at (915)-762-5730 or email me at example@email.com'\n",
    "chat3 = 'Could you let me know if the files were uploaded correctly? You can call me at 5551234567 or email me at info_ngo.city@samplemail.com'\n",
    "chat4 = 'Could you please provide an update on the status of my order # 425978'\n",
    "chat5 = 'Could you please provide an update on the status of my order number 425978'\n",
    "chat6 = 'Could you please provide an update on the status of my order no. 425978'"
   ]
  },
  {
   "cell_type": "code",
   "execution_count": 43,
   "id": "2cfff924-68b7-4714-8856-6163b749624b",
   "metadata": {},
   "outputs": [],
   "source": [
    "pattern_for_gmail = r'[a-z0-9_.]*@[a-z]*\\.[a-z]*'\n",
    "pattern_for_order = r'order[^\\d]*(\\d*)'\n",
    "patter_for_phone = r'\\(\\d{3}\\)-\\d{3}-\\d{4} | \\d{10}'"
   ]
  },
  {
   "cell_type": "code",
   "execution_count": 44,
   "id": "33e469dd-f106-498e-b8a7-53f8ee44bd15",
   "metadata": {},
   "outputs": [],
   "source": [
    "chats = [chat1, chat2, chat3, chat4, chat5, chat6]"
   ]
  },
  {
   "cell_type": "code",
   "execution_count": 45,
   "id": "ece86b25-76a3-481c-9456-e059f4e10bae",
   "metadata": {},
   "outputs": [
    {
     "name": "stdout",
     "output_type": "stream",
     "text": [
      "Chat 1:\n",
      "Emails: ['contact@domain.com']\n",
      "Order Numbers: []\n",
      "Phone Numbers: [' 9876543210', ' 8753958710']\n",
      "------------------------------\n",
      "Chat 2:\n",
      "Emails: ['example@email.com']\n",
      "Order Numbers: []\n",
      "Phone Numbers: ['(915)-762-5730 ']\n",
      "------------------------------\n",
      "Chat 3:\n",
      "Emails: ['info_ngo.city@samplemail.com']\n",
      "Order Numbers: []\n",
      "Phone Numbers: [' 5551234567']\n",
      "------------------------------\n",
      "Chat 4:\n",
      "Emails: []\n",
      "Order Numbers: ['425978']\n",
      "Phone Numbers: []\n",
      "------------------------------\n",
      "Chat 5:\n",
      "Emails: []\n",
      "Order Numbers: ['425978']\n",
      "Phone Numbers: []\n",
      "------------------------------\n",
      "Chat 6:\n",
      "Emails: []\n",
      "Order Numbers: ['425978']\n",
      "Phone Numbers: []\n",
      "------------------------------\n"
     ]
    }
   ],
   "source": [
    "for i, chat in enumerate(chats, 1):\n",
    "    emails = re.findall(pattern_for_gmail, chat)\n",
    "    order_numbers = re.findall(pattern_for_order, chat)\n",
    "    phone_numbers = re.findall(patter_for_phone, chat)\n",
    "    \n",
    "    print(f\"Chat {i}:\")\n",
    "    print(f\"Emails: {emails}\")\n",
    "    print(f\"Order Numbers: {order_numbers}\")\n",
    "    print(f\"Phone Numbers: {phone_numbers}\")\n",
    "    print(\"-\" * 30)"
   ]
  },
  {
   "cell_type": "code",
   "execution_count": null,
   "id": "abbea399-95a1-4f52-96ae-1f9d7c9afef9",
   "metadata": {},
   "outputs": [],
   "source": []
  }
 ],
 "metadata": {
  "kernelspec": {
   "display_name": "Python 3 (ipykernel)",
   "language": "python",
   "name": "python3"
  },
  "language_info": {
   "codemirror_mode": {
    "name": "ipython",
    "version": 3
   },
   "file_extension": ".py",
   "mimetype": "text/x-python",
   "name": "python",
   "nbconvert_exporter": "python",
   "pygments_lexer": "ipython3",
   "version": "3.12.4"
  }
 },
 "nbformat": 4,
 "nbformat_minor": 5
}
